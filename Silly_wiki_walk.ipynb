{
 "cells": [
  {
   "cell_type": "markdown",
   "metadata": {},
   "source": [
    "# Silly Wiki Walk"
   ]
  },
  {
   "cell_type": "code",
   "execution_count": 1,
   "metadata": {},
   "outputs": [],
   "source": [
    "# pip3 install wikipedia-api\n",
    "# pip install wikipedia"
   ]
  },
  {
   "cell_type": "markdown",
   "metadata": {},
   "source": [
    "## Import libraries"
   ]
  },
  {
   "cell_type": "code",
   "execution_count": 2,
   "metadata": {},
   "outputs": [],
   "source": [
    "import wikipedia\n",
    "import random"
   ]
  },
  {
   "cell_type": "markdown",
   "metadata": {},
   "source": [
    "## Set initial page"
   ]
  },
  {
   "cell_type": "code",
   "execution_count": 3,
   "metadata": {},
   "outputs": [],
   "source": [
    "starting_page = \"random walk\"\n",
    "target_page = starting_page # if recurrent\n",
    "num_sims = 5\n",
    "escape = 10\n",
    "verbose = 1"
   ]
  },
  {
   "cell_type": "markdown",
   "metadata": {},
   "source": [
    "## Execute"
   ]
  },
  {
   "cell_type": "code",
   "execution_count": 4,
   "metadata": {},
   "outputs": [
    {
     "name": "stdout",
     "output_type": "stream",
     "text": [
      "Simulation 0 (0 hit target)\n",
      "Step 1: random walk\n",
      "Step 2: Unit root\n",
      "Step 3: Statistical inference\n",
      "Step 4: Bayes estimator\n",
      "Step 5: Lp space\n",
      "Step 6: Nicolas Bourbaki\n",
      "Step 7: Frederick Bagemihl\n",
      "Step 8: International Standard Book Number\n",
      "Step 9: ISO 2146\n",
      "Step 10: Multibus\n",
      "Simulation 1 (0 hit target)\n",
      "Step 1: random walk\n",
      "Step 2: Feller process\n",
      "Step 3: Martingale difference sequence\n",
      "Step 4: Bessel process\n",
      "Step 5: Burkholder–Davis–Gundy inequalities\n",
      "Step 6: Local martingale\n",
      "Step 7: Random walk\n",
      "Step 8: Uniform integrability\n",
      "Step 9: Billy James Pettis\n",
      "Step 10: Library of Congress Control Number\n",
      "Simulation 2 (0 hit target)\n",
      "Step 1: random walk\n",
      "Step 2: Boolean network\n",
      "Step 3: Cox process\n",
      "Step 4: Fleming–Viot process\n",
      "Step 5: SABR volatility model\n",
      "Step 6: Exotic derivative\n",
      "Step 7: Constant maturity swap\n",
      "Step 8: Intermarket Spread\n",
      "Step 9: Dividend swap\n",
      "Step 10: Straddle\n",
      "Simulation 3 (0 hit target)\n",
      "Step 1: random walk\n",
      "Step 2: Factorial\n",
      "Step 3: Bohr–Mollerup theorem\n",
      "Step 4: Harald Bohr\n",
      "Step 5: G. H. Hardy\n",
      "Step 6: John Wallis\n",
      "Step 7: Christian Huygens\n",
      "Step 8: Nexus for Exoplanet System Science\n",
      "Step 9: G-type main-sequence star\n",
      "Step 10: List of supernovae\n",
      "Simulation 4 (0 hit target)\n",
      "Step 1: random walk\n",
      "Step 2: Self-similarity\n",
      "Step 3: P-adic number\n",
      "Step 4: Bijective numeration\n",
      "Step 5: Complex-base system\n",
      "Step 6: Abjad numerals\n",
      "Step 7: Undeciphered writing systems\n",
      "Step 8: Eclectic shorthand\n",
      "Step 9: Takri script\n",
      "Step 10: Dogri\n"
     ]
    }
   ],
   "source": [
    "counts = list()\n",
    "non_recurrent = list()\n",
    "\n",
    "for j in range(num_sims):\n",
    "    \n",
    "    if verbose == 1:\n",
    "        print('Simulation ' + str(j) + ' ('+str(len(counts))+ ' hit target)')\n",
    "        \n",
    "    triggered = False\n",
    "    num_steps = 0\n",
    "    current_page = starting_page\n",
    "    while triggered == False:\n",
    "        num_steps  = num_steps + 1\n",
    "        \n",
    "        if verbose == 1:\n",
    "            print('Step ' + str(num_steps) + ': ' + current_page)\n",
    "                     \n",
    "        the_page = wikipedia.page(current_page)\n",
    "        current_page = the_page.links[random.randint(0,len(the_page.links))]\n",
    "        \n",
    "        if current_page == target_page:\n",
    "            counts.append(j)\n",
    "            triggered = True\n",
    "        \n",
    "        if num_steps == escape:\n",
    "            non_recurrent.append(current_page)\n",
    "            triggered = True"
   ]
  }
 ],
 "metadata": {
  "kernelspec": {
   "display_name": "Python 3",
   "language": "python",
   "name": "python3"
  },
  "language_info": {
   "codemirror_mode": {
    "name": "ipython",
    "version": 3
   },
   "file_extension": ".py",
   "mimetype": "text/x-python",
   "name": "python",
   "nbconvert_exporter": "python",
   "pygments_lexer": "ipython3",
   "version": "3.6.8"
  }
 },
 "nbformat": 4,
 "nbformat_minor": 2
}
